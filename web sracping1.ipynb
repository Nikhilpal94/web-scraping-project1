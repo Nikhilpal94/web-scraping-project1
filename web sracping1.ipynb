{
 "cells": [
  {
   "cell_type": "code",
   "execution_count": null,
   "id": "edfd0c67",
   "metadata": {},
   "outputs": [],
   "source": [
    "from bs4 import BeautifulSoup\n",
    "import requests\n",
    "import lxml\n",
    "import pandas as pd\n",
    "filpkart_phons={}\n",
    "name_list=[]\n",
    "price_list=[]\n",
    "rating_list=[]\n",
    "for page in range(1,10):\n",
    "    url=f\"https://www.flipkart.com/search?q=phon&otracker=search&otracker1=search&marketplace=FLIPKART&as-show=on&as=off&page={page}\"\n",
    "\n",
    "    html=requests.get(url).content\n",
    "    soup=BeautifulSoup(html,\"lxml\")\n",
    "    phons=soup.find_all('div','_3pLy-c row')\n",
    "\n",
    "    for phon in phons:\n",
    "        name=phon.find('div','_4rR01T').get_text()\n",
    "        price=int(phon.find('div','_30jeq3 _1_WHN1').get_text().replace('₹','').replace(',',''))\n",
    "        rating=float(phon.find('div','_3LWZlK').get_text())\n",
    "        name_list.append(name)\n",
    "        price_list.append(price)\n",
    "        rating_list.append(rating)\n",
    "\n",
    "filpkart_phons['name']=name_list\n",
    "filpkart_phons['price']=price_list\n",
    "filpkart_phons['rating']=rating_list\n",
    "file=pd.DataFrame(filpkart_phons,columns=[\"Names\",\"Price\",\"Rating\"])\n",
    "file"
   ]
  }
 ],
 "metadata": {
  "kernelspec": {
   "display_name": "Python 3 (ipykernel)",
   "language": "python",
   "name": "python3"
  },
  "language_info": {
   "codemirror_mode": {
    "name": "ipython",
    "version": 3
   },
   "file_extension": ".py",
   "mimetype": "text/x-python",
   "name": "python",
   "nbconvert_exporter": "python",
   "pygments_lexer": "ipython3",
   "version": "3.9.12"
  }
 },
 "nbformat": 4,
 "nbformat_minor": 5
}
